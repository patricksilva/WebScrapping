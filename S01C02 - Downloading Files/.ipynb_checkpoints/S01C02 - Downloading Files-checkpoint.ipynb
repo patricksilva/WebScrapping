{
 "cells": [
  {
   "cell_type": "markdown",
   "metadata": {},
   "source": [
    "# S01C02 - Downloading Files"
   ]
  },
  {
   "cell_type": "markdown",
   "metadata": {},
   "source": [
    "## Introduction"
   ]
  },
  {
   "cell_type": "markdown",
   "metadata": {},
   "source": [
    "### Introduction description\n",
    "\n",
    "We performed an organic search in 2017-11-01 using [Google](www.google.com) with these terms:\n",
    "\n",
    "\"python download file mp3\"\n",
    "\n",
    "Result: **Aproximately 1.890.000 results (0,35 seconds)**"
   ]
  },
  {
   "cell_type": "code",
   "execution_count": null,
   "metadata": {
    "collapsed": false
   },
   "outputs": [],
   "source": [
    "import os\n",
    "#import urllib.request\n",
    "import urllib2"
   ]
  },
  {
   "cell_type": "code",
   "execution_count": null,
   "metadata": {
    "collapsed": true
   },
   "outputs": [],
   "source": [
    "fn_str1 = \"http://www.address.webaula.com.br/Cursos/\"\n",
    "fn_str2 = \"PG0123\"\n",
    "fn_str3a = \"/videoaula/ppt/Aula_%02d.ppt\"\n",
    "fn_str3b = \"/videoaula/mp3/Aula_%02d.mp3\""
   ]
  },
  {
   "cell_type": "code",
   "execution_count": null,
   "metadata": {
    "collapsed": false
   },
   "outputs": [],
   "source": [
    "fileNames = []\n",
    "for i in range(1, 17):\n",
    "#    fnA = \"http://www.someaddress.com/ppt/filename_%02d.ppt\" % (i)\n",
    "#    fnB = \"http://www.someaddress.com/mp3/filename_%02d.mp3\" % (i)\n",
    "    fnA = fn_str1 + fn_str2 + (fn_str3a % (i))\n",
    "    fnB = fn_str1 + fn_str2 + (fn_str3b % (i))\n",
    "    fileNames.append(fnA)\n",
    "    fileNames.append(fnB)\n",
    "    \n",
    "# print fileNames\n"
   ]
  },
  {
   "cell_type": "code",
   "execution_count": null,
   "metadata": {
    "collapsed": false
   },
   "outputs": [],
   "source": [
    "for url in fileNames:\n",
    "#    print url[-16:]\n",
    "    directory = fn_str2 + \"/\" + url[-15:-12]\n",
    "    mp3Name = url[-11:]\n",
    "#    print directory\n",
    "#    print mp3Name\n",
    "    if not os.path.exists(directory):\n",
    "        os.makedirs(directory)\n",
    "    req2 = urllib2.Request(url)\n",
    "    try:\n",
    "        response = urllib2.urlopen(req2)\n",
    "    except urllib2.HTTPError as err:\n",
    "        if err.code == 404:\n",
    "            print \"The client was able to communicate with server, but the server could not find what was requested\"\n",
    "            continue\n",
    "        if err.code == 10054:\n",
    "            print \"Connection reset by peer\"\n",
    "            continue\n",
    "    except:\n",
    "        print \"Unexpected error:\", sys.exc_info()[0]\n",
    "        raise\n",
    "    #grab the data\n",
    "    data = response.read()\n",
    "    mp3Name = url[-11:]\n",
    "    song = open(directory+\"/\"+mp3Name, \"wb\")\n",
    "    song.write(data)    # was data2\n",
    "    song.close()"
   ]
  },
  {
   "cell_type": "markdown",
   "metadata": {},
   "source": [
    "## References\n",
    "\n",
    "* https://stackoverflow.com/questions/20820972/downloading-a-mp3-file-in-python\n",
    "\n",
    "* https://stackoverflow.com/questions/3878882/downloading-mp3-using-python-in-windows-mangles-the-song-however-in-linux-it-doe?rq=1\n",
    "\n",
    "* https://stackoverflow.com/questions/22676/how-do-i-download-a-file-over-http-using-python\n",
    "\n",
    "* https://docs.python.org/2/library/urllib2.html\n",
    "\n",
    "* https://wiki.python.org/moin/ForLoop\n",
    "\n",
    "* https://stackoverflow.com/questions/134934/display-number-with-leading-zeros\n",
    "\n",
    "* https://stackoverflow.com/questions/252703/difference-between-append-vs-extend-list-methods-in-python\n",
    "\n",
    "* https://stackoverflow.com/questions/10644220/create-and-initialize-python-list\n",
    "\n",
    "* https://stackoverflow.com/questions/126524/iterate-a-list-with-indexes-in-python\n",
    "\n",
    "* https://stackoverflow.com/questions/9138112/looping-over-a-list-in-python\n",
    "\n",
    "* https://stackoverflow.com/questions/663171/is-there-a-way-to-substring-a-string-in-python\n",
    "\n",
    "* https://stackoverflow.com/questions/273192/how-can-i-create-a-directory-if-it-does-not-exist\n",
    "\n",
    "* https://stackoverflow.com/questions/3193060/catch-specific-http-error-in-python\n",
    "\n",
    "* https://en.wikipedia.org/wiki/HTTP_404\n",
    "\n",
    "* https://docs.python.org/3/tutorial/errors.html#handling-exceptions\n",
    "\n",
    "* https://www.reddit.com/r/learnpython/comments/1wqxv8/connection_forcibly_closing_err_10054_in_web/\n",
    "\n",
    "* https://msdn.microsoft.com/en-us/library/windows/desktop/ms740668(v=vs.85).aspx"
   ]
  }
 ],
 "metadata": {
  "kernelspec": {
   "display_name": "Python 2",
   "language": "python",
   "name": "python2"
  },
  "language_info": {
   "codemirror_mode": {
    "name": "ipython",
    "version": 2
   },
   "file_extension": ".py",
   "mimetype": "text/x-python",
   "name": "python",
   "nbconvert_exporter": "python",
   "pygments_lexer": "ipython2",
   "version": "2.7.13"
  }
 },
 "nbformat": 4,
 "nbformat_minor": 2
}
